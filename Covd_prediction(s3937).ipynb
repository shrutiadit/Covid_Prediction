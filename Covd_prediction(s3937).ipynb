{
 "cells": [
  {
   "cell_type": "markdown",
   "id": "f8386b37",
   "metadata": {},
   "source": [
    "# Introduction"
   ]
  },
  {
   "cell_type": "markdown",
   "id": "f1f1fab9",
   "metadata": {},
   "source": [
    "Effective screening of SARS-CoV-2 enables quick and efficient diagnosis of COVID-19 and can mitigate the burden on healthcare systems. \n",
    "Prediction models that combine several features to estimate the risk of infection have been developed. \n",
    "These aim to assist medical staff worldwide in triaging patients, especially in the context of limited healthcare resources.\n",
    "We are planning to analyze the data obtained from from ‘ABC’ government website that contains around 2,78,848 individuals who have gone through the RT-PCR test. "
   ]
  },
  {
   "cell_type": "code",
   "execution_count": 1,
   "id": "3b3f8651-85df-442b-a25d-9f666ca64671",
   "metadata": {},
   "outputs": [],
   "source": [
    "# importing the necessary libraries.\n",
    "import pandas as pd\n",
    "import numpy as np\n",
    "import matplotlib.pyplot as plt\n",
    "import seaborn as sns\n",
    "from ydata_profiling import ProfileReport\n",
    "%matplotlib inline"
   ]
  },
  {
   "cell_type": "markdown",
   "id": "6bc427c8-bd8e-4d6e-99d3-b460f46d7190",
   "metadata": {},
   "source": [
    "## Specifying the datatype of every column."
   ]
  },
  {
   "cell_type": "code",
   "execution_count": 2,
   "id": "b07f52b2-2245-48eb-a3ec-f8bf6935ec07",
   "metadata": {},
   "outputs": [],
   "source": [
    "dtype={'Ind_ID':'str','Test_date':'str','Cough_symptoms':'boolean','Fever':'boolean','Sore_throat':'boolean','Shortness_of_breath':'boolean','Headache':'boolean',\n",
    "'Corona':'str','Age_60_above':'str','Sex':'str','Known_contact':'str'}\n",
    "df =pd.read_csv('corona_tested_006.csv',dtype=dtype)"
   ]
  },
  {
   "cell_type": "markdown",
   "id": "a81d2795-c6f9-43f5-ac39-3f2a809d69c2",
   "metadata": {},
   "source": [
    "## Checking the data"
   ]
  },
  {
   "cell_type": "code",
   "execution_count": 3,
   "id": "680602e2-39f5-4a80-8ea7-1459dfe11e77",
   "metadata": {},
   "outputs": [
    {
     "data": {
      "text/html": [
       "<div>\n",
       "<style scoped>\n",
       "    .dataframe tbody tr th:only-of-type {\n",
       "        vertical-align: middle;\n",
       "    }\n",
       "\n",
       "    .dataframe tbody tr th {\n",
       "        vertical-align: top;\n",
       "    }\n",
       "\n",
       "    .dataframe thead th {\n",
       "        text-align: right;\n",
       "    }\n",
       "</style>\n",
       "<table border=\"1\" class=\"dataframe\">\n",
       "  <thead>\n",
       "    <tr style=\"text-align: right;\">\n",
       "      <th></th>\n",
       "      <th>Ind_ID</th>\n",
       "      <th>Test_date</th>\n",
       "      <th>Cough_symptoms</th>\n",
       "      <th>Fever</th>\n",
       "      <th>Sore_throat</th>\n",
       "      <th>Shortness_of_breath</th>\n",
       "      <th>Headache</th>\n",
       "      <th>Corona</th>\n",
       "      <th>Age_60_above</th>\n",
       "      <th>Sex</th>\n",
       "      <th>Known_contact</th>\n",
       "    </tr>\n",
       "  </thead>\n",
       "  <tbody>\n",
       "    <tr>\n",
       "      <th>0</th>\n",
       "      <td>1</td>\n",
       "      <td>11-03-2020</td>\n",
       "      <td>True</td>\n",
       "      <td>False</td>\n",
       "      <td>True</td>\n",
       "      <td>False</td>\n",
       "      <td>False</td>\n",
       "      <td>negative</td>\n",
       "      <td>NaN</td>\n",
       "      <td>NaN</td>\n",
       "      <td>Abroad</td>\n",
       "    </tr>\n",
       "    <tr>\n",
       "      <th>1</th>\n",
       "      <td>2</td>\n",
       "      <td>11-03-2020</td>\n",
       "      <td>False</td>\n",
       "      <td>True</td>\n",
       "      <td>False</td>\n",
       "      <td>False</td>\n",
       "      <td>False</td>\n",
       "      <td>positive</td>\n",
       "      <td>NaN</td>\n",
       "      <td>NaN</td>\n",
       "      <td>Abroad</td>\n",
       "    </tr>\n",
       "    <tr>\n",
       "      <th>2</th>\n",
       "      <td>3</td>\n",
       "      <td>11-03-2020</td>\n",
       "      <td>False</td>\n",
       "      <td>True</td>\n",
       "      <td>False</td>\n",
       "      <td>False</td>\n",
       "      <td>False</td>\n",
       "      <td>positive</td>\n",
       "      <td>NaN</td>\n",
       "      <td>NaN</td>\n",
       "      <td>Abroad</td>\n",
       "    </tr>\n",
       "    <tr>\n",
       "      <th>3</th>\n",
       "      <td>4</td>\n",
       "      <td>11-03-2020</td>\n",
       "      <td>True</td>\n",
       "      <td>False</td>\n",
       "      <td>False</td>\n",
       "      <td>False</td>\n",
       "      <td>False</td>\n",
       "      <td>negative</td>\n",
       "      <td>NaN</td>\n",
       "      <td>NaN</td>\n",
       "      <td>Abroad</td>\n",
       "    </tr>\n",
       "    <tr>\n",
       "      <th>4</th>\n",
       "      <td>5</td>\n",
       "      <td>11-03-2020</td>\n",
       "      <td>True</td>\n",
       "      <td>False</td>\n",
       "      <td>False</td>\n",
       "      <td>False</td>\n",
       "      <td>False</td>\n",
       "      <td>negative</td>\n",
       "      <td>NaN</td>\n",
       "      <td>NaN</td>\n",
       "      <td>Contact with confirmed</td>\n",
       "    </tr>\n",
       "  </tbody>\n",
       "</table>\n",
       "</div>"
      ],
      "text/plain": [
       "  Ind_ID   Test_date  Cough_symptoms  Fever  Sore_throat  Shortness_of_breath  \\\n",
       "0      1  11-03-2020            True  False         True                False   \n",
       "1      2  11-03-2020           False   True        False                False   \n",
       "2      3  11-03-2020           False   True        False                False   \n",
       "3      4  11-03-2020            True  False        False                False   \n",
       "4      5  11-03-2020            True  False        False                False   \n",
       "\n",
       "   Headache    Corona Age_60_above  Sex           Known_contact  \n",
       "0     False  negative          NaN  NaN                  Abroad  \n",
       "1     False  positive          NaN  NaN                  Abroad  \n",
       "2     False  positive          NaN  NaN                  Abroad  \n",
       "3     False  negative          NaN  NaN                  Abroad  \n",
       "4     False  negative          NaN  NaN  Contact with confirmed  "
      ]
     },
     "execution_count": 3,
     "metadata": {},
     "output_type": "execute_result"
    }
   ],
   "source": [
    "df.head()"
   ]
  },
  {
   "cell_type": "markdown",
   "id": "3973fb8c-e808-4002-ad6b-751afff399fe",
   "metadata": {},
   "source": [
    "## Shape of the data"
   ]
  },
  {
   "cell_type": "code",
   "execution_count": 4,
   "id": "c702c307-eece-46cf-b368-20648b9ec67b",
   "metadata": {},
   "outputs": [
    {
     "data": {
      "text/plain": [
       "(278848, 11)"
      ]
     },
     "execution_count": 4,
     "metadata": {},
     "output_type": "execute_result"
    }
   ],
   "source": [
    "df.shape"
   ]
  },
  {
   "cell_type": "code",
   "execution_count": 5,
   "id": "f7a81bbb",
   "metadata": {},
   "outputs": [
    {
     "name": "stdout",
     "output_type": "stream",
     "text": [
      "<class 'pandas.core.frame.DataFrame'>\n",
      "RangeIndex: 278848 entries, 0 to 278847\n",
      "Data columns (total 11 columns):\n",
      " #   Column               Non-Null Count   Dtype  \n",
      "---  ------               --------------   -----  \n",
      " 0   Ind_ID               278848 non-null  object \n",
      " 1   Test_date            278848 non-null  object \n",
      " 2   Cough_symptoms       278596 non-null  boolean\n",
      " 3   Fever                278596 non-null  boolean\n",
      " 4   Sore_throat          278847 non-null  boolean\n",
      " 5   Shortness_of_breath  278847 non-null  boolean\n",
      " 6   Headache             278847 non-null  boolean\n",
      " 7   Corona               278848 non-null  object \n",
      " 8   Age_60_above         151528 non-null  object \n",
      " 9   Sex                  259285 non-null  object \n",
      " 10  Known_contact        278848 non-null  object \n",
      "dtypes: boolean(5), object(6)\n",
      "memory usage: 15.4+ MB\n"
     ]
    }
   ],
   "source": [
    "df.info()"
   ]
  },
  {
   "cell_type": "code",
   "execution_count": 6,
   "id": "cd996194",
   "metadata": {},
   "outputs": [
    {
     "data": {
      "text/plain": [
       "Ind_ID                      0\n",
       "Test_date                   0\n",
       "Cough_symptoms            252\n",
       "Fever                     252\n",
       "Sore_throat                 1\n",
       "Shortness_of_breath         1\n",
       "Headache                    1\n",
       "Corona                      0\n",
       "Age_60_above           127320\n",
       "Sex                     19563\n",
       "Known_contact               0\n",
       "dtype: int64"
      ]
     },
     "execution_count": 6,
     "metadata": {},
     "output_type": "execute_result"
    }
   ],
   "source": [
    "df.isna().sum()"
   ]
  },
  {
   "cell_type": "markdown",
   "id": "78a92fc0",
   "metadata": {},
   "source": [
    "# Exploratory Data Handling and Visualization"
   ]
  },
  {
   "cell_type": "markdown",
   "id": "2f4de3a4",
   "metadata": {},
   "source": [
    "Questions to be answered\n",
    "1) Comparison of no of positive cases in both the genders\n",
    "2) Analyze the column 'Known_Contact'.Study which category has most positive cases\n",
    "3) Observe and Analyze if the symptom 'cough' is correlated with Corona.\n",
    "4) Number of positive cases when the patient had a headache\n",
    "5) Is Sore_throat an important symptom when it comes to testing for Corona.\n",
    "6) Is fever a reliable symptom to predict Corona."
   ]
  },
  {
   "cell_type": "code",
   "execution_count": 7,
   "id": "124224c4",
   "metadata": {},
   "outputs": [
    {
     "data": {
      "text/plain": [
       "<Axes: xlabel='Sex', ylabel='Count'>"
      ]
     },
     "execution_count": 7,
     "metadata": {},
     "output_type": "execute_result"
    },
    {
     "data": {
      "image/png": "[encoded data removed]",
      "text/plain": [
       "<Figure size 640x480 with 1 Axes>"
      ]
     },
     "metadata": {},
     "output_type": "display_data"
    }
   ],
   "source": [
    "sns.histplot(df,x='Sex',hue='Corona',multiple='dodge')"
   ]
  },
  {
   "cell_type": "markdown",
   "id": "9a12f429",
   "metadata": {},
   "source": [
    "We can infer that the number of females is slightly more than the males.\n",
    "No of males having corona is slightly more than the females."
   ]
  },
  {
   "cell_type": "code",
   "execution_count": 8,
   "id": "e5448461",
   "metadata": {},
   "outputs": [
    {
     "name": "stdout",
     "output_type": "stream",
     "text": [
      "4.641282134021727\n",
      "5.822949499330117\n"
     ]
    }
   ],
   "source": [
    "#Checking the number of females with Corona\n",
    "print(len(df.loc[(df['Sex']=='female') & (df['Corona']=='positive')])/len(df.loc[df['Sex']=='female'])*100)\n",
    "\n",
    "# Checking the number of males with Corona\n",
    "print(len(df.loc[(df['Sex']=='male') & (df['Corona']=='positive')])/len(df.loc[df['Sex']=='male'])*100)"
   ]
  },
  {
   "cell_type": "markdown",
   "id": "2ac9bf23",
   "metadata": {},
   "source": [
    "Number of males with corona is slightly more than females"
   ]
  },
  {
   "cell_type": "code",
   "execution_count": 9,
   "id": "a3808179",
   "metadata": {},
   "outputs": [
    {
     "data": {
      "text/plain": [
       "<Axes: xlabel='Known_contact', ylabel='Count'>"
      ]
     },
     "execution_count": 9,
     "metadata": {},
     "output_type": "execute_result"
    },
    {
     "data": {
      "image/png": "[encoded data removed]",
      "text/plain": [
       "<Figure size 640x480 with 1 Axes>"
      ]
     },
     "metadata": {},
     "output_type": "display_data"
    }
   ],
   "source": [
    "sns.histplot(df,x='Known_contact',hue='Corona',multiple='dodge')"
   ]
  },
  {
   "cell_type": "markdown",
   "id": "a682ac45",
   "metadata": {},
   "source": [
    "Almost 87% of the patients belong to the category 'other'.\n",
    "The number of positive cases in the 'other' category is lowest as compared to the rest of the categories.\n",
    "Number of patients who were abroad are 10% of the total patients.\n",
    "Lets calculate the number of positive cases in each category"
   ]
  },
  {
   "cell_type": "code",
   "execution_count": 10,
   "id": "e6ae2620",
   "metadata": {},
   "outputs": [
    {
     "name": "stdout",
     "output_type": "stream",
     "text": [
      "7.338621014606566\n",
      "68.78466021242599\n",
      "2.2830918551048236\n"
     ]
    }
   ],
   "source": [
    "print(len(df.loc[(df['Known_contact']=='Abroad') & (df['Corona']=='positive')])/len(df.loc[df['Known_contact']=='Abroad'])*100)\n",
    "\n",
    "\n",
    "print(len(df.loc[(df['Known_contact']=='Contact with confirmed') & (df['Corona']=='positive')])/len(df.loc[df['Known_contact']=='Contact with confirmed'])*100)\n",
    "\n",
    "\n",
    "print(len(df.loc[(df['Known_contact']=='Other') & (df['Corona']=='positive')])/len(df.loc[df['Known_contact']=='Other'])*100)"
   ]
  },
  {
   "cell_type": "markdown",
   "id": "180145ac",
   "metadata": {},
   "source": [
    "Highest number of positive cases belong to the category 'Contact with confirmed'.We can infer that if a person was in contact with positive tested patient then that person is most likely to get the infection."
   ]
  },
  {
   "cell_type": "markdown",
   "id": "0081bcf9",
   "metadata": {},
   "source": [
    "Before we start analysing the other columns,lets check the columns which have null values.\n",
    "Columns 'Cough_symptoms' and 'Fever' have less than 5% of missing values and when used for visualization ,it throws an error.\n",
    "We can delete those records from the dataframe before plotting."
   ]
  },
  {
   "cell_type": "code",
   "execution_count": 11,
   "id": "93cd15a5",
   "metadata": {},
   "outputs": [
    {
     "data": {
      "text/plain": [
       "Cough_symptoms\n",
       "False    236368\n",
       "True      42228\n",
       "Name: count, dtype: Int64"
      ]
     },
     "execution_count": 11,
     "metadata": {},
     "output_type": "execute_result"
    }
   ],
   "source": [
    "df['Cough_symptoms'].value_counts()"
   ]
  },
  {
   "cell_type": "code",
   "execution_count": 12,
   "id": "a7300b66",
   "metadata": {},
   "outputs": [
    {
     "data": {
      "text/plain": [
       "<Axes: xlabel='Cough_symptoms', ylabel='count'>"
      ]
     },
     "execution_count": 12,
     "metadata": {},
     "output_type": "execute_result"
    },
    {
     "data": {
      "image/png": "[encoded data removed]",
      "text/plain": [
       "<Figure size 640x480 with 1 Axes>"
      ]
     },
     "metadata": {},
     "output_type": "display_data"
    }
   ],
   "source": [
    "df.dropna(subset=['Cough_symptoms'],inplace=True)\n",
    "\n",
    "\n",
    "sns.countplot(df,x='Cough_symptoms',hue='Corona')\n"
   ]
  },
  {
   "cell_type": "code",
   "execution_count": 13,
   "id": "66ef891f",
   "metadata": {},
   "outputs": [
    {
     "name": "stdout",
     "output_type": "stream",
     "text": [
      "15.591550629913801\n",
      "82.85260964289097\n",
      "3.431936641169701\n"
     ]
    }
   ],
   "source": [
    "# percentage of patients who had cough_symptoms who tested positive for corona\n",
    "print(len(df.loc[(df['Cough_symptoms']==True) & (df['Corona']=='positive')])/len(df.loc[df['Cough_symptoms']==True])*100)\n",
    "\n",
    "\n",
    "# percentageof patients who tested positive for cough symptoms but still tested negative for Corona\n",
    "print(len(df.loc[(df['Cough_symptoms']==True) & (df['Corona']=='negative')])/len(df.loc[df['Cough_symptoms']==True])*100)\n",
    "\n",
    "\n",
    "#\n",
    "print(len(df.loc[(df['Cough_symptoms']==False) & (df['Corona']=='positive')])/len(df.loc[df['Cough_symptoms']==False])*100)\n",
    "\n"
   ]
  },
  {
   "cell_type": "markdown",
   "id": "b238c7d8",
   "metadata": {},
   "source": [
    "No of patients who tested negative for Cough_symptoms are more as comapared to those who tested positive.\n",
    "\n",
    "82% of patients who had cough symptoms but tested negative for Corona.\n",
    "\n",
    "Only 3% of patients who tested negative for cough symptoms tested positive for corona."
   ]
  },
  {
   "cell_type": "code",
   "execution_count": 14,
   "id": "375a9e3b",
   "metadata": {},
   "outputs": [
    {
     "data": {
      "text/plain": [
       "<Axes: xlabel='Headache', ylabel='count'>"
      ]
     },
     "execution_count": 14,
     "metadata": {},
     "output_type": "execute_result"
    },
    {
     "data": {
      "image/png": "[encoded data removed]",
      "text/plain": [
       "<Figure size 640x480 with 1 Axes>"
      ]
     },
     "metadata": {},
     "output_type": "display_data"
    }
   ],
   "source": [
    "sns.countplot(df,x='Headache',hue='Corona')"
   ]
  },
  {
   "cell_type": "markdown",
   "id": "63068d81",
   "metadata": {},
   "source": [
    "Patients who do not have headache significantly more as compared to those who do.\n",
    "We can see from the plot that patients who had headache were tested postive for Corona.\n",
    "More than 90% of patients who didn't have headache were tested negative for Corona.\n"
   ]
  },
  {
   "cell_type": "code",
   "execution_count": 15,
   "id": "a730d006",
   "metadata": {},
   "outputs": [
    {
     "name": "stdout",
     "output_type": "stream",
     "text": [
      "92.61410788381743\n",
      "94.08912834104552\n"
     ]
    }
   ],
   "source": [
    "# Percentage of patients who had headache and tested positive for Corona\n",
    "print(len(df.loc[(df['Headache']==True) & (df['Corona']=='positive')])/len(df.loc[df['Headache']==True])*100)\n",
    "\n",
    "# percentage of patients who did not have headache and tested negative for Corona\n",
    "print(len(df.loc[(df['Headache']==False) & (df['Corona']=='negative')])/len(df.loc[df['Headache']==False])*100)"
   ]
  },
  {
   "cell_type": "code",
   "execution_count": 16,
   "id": "3751b8bf",
   "metadata": {},
   "outputs": [
    {
     "data": {
      "text/plain": [
       "<Axes: xlabel='Sore_throat', ylabel='count'>"
      ]
     },
     "execution_count": 16,
     "metadata": {},
     "output_type": "execute_result"
    },
    {
     "data": {
      "image/png": "[encoded data removed]",
      "text/plain": [
       "<Figure size 640x480 with 1 Axes>"
      ]
     },
     "metadata": {},
     "output_type": "display_data"
    }
   ],
   "source": [
    "sns.countplot(df,x='Sore_throat',hue='Corona')"
   ]
  },
  {
   "cell_type": "markdown",
   "id": "26fdb5c8",
   "metadata": {},
   "source": [
    "Number of patients who are not having sore_throat as a symptom are more as compared to patients that dont.\n",
    "Almost 70% of the patients who have sore throat have tested positive for Corona"
   ]
  },
  {
   "cell_type": "code",
   "execution_count": 17,
   "id": "d547c07a",
   "metadata": {},
   "outputs": [
    {
     "name": "stdout",
     "output_type": "stream",
     "text": [
      "79.24037460978148\n"
     ]
    }
   ],
   "source": [
    "print(len(df.loc[(df['Sore_throat']==True) & (df['Corona']=='positive')])/len(df.loc[df['Sore_throat']==True])*100)"
   ]
  },
  {
   "cell_type": "code",
   "execution_count": 18,
   "id": "62294a37",
   "metadata": {},
   "outputs": [],
   "source": [
    "df.dropna(subset=['Fever'],inplace=True)"
   ]
  },
  {
   "cell_type": "code",
   "execution_count": 19,
   "id": "8ae427ab",
   "metadata": {},
   "outputs": [
    {
     "data": {
      "text/plain": [
       "<Axes: xlabel='Fever', ylabel='count'>"
      ]
     },
     "execution_count": 19,
     "metadata": {},
     "output_type": "execute_result"
    },
    {
     "data": {
      "image/png": "[encoded data removed]",
      "text/plain": [
       "<Figure size 640x480 with 1 Axes>"
      ]
     },
     "metadata": {},
     "output_type": "display_data"
    }
   ],
   "source": [
    "sns.countplot(df,x='Fever',hue='Corona')"
   ]
  },
  {
   "cell_type": "markdown",
   "id": "37de5f6f",
   "metadata": {},
   "source": [
    "No of patients who had fever and tested positive for Corona are less as compared to those who had fever but no corona.\n",
    "No of patients do did not have fever forms almost 90% of the total data.The column fever as a standalone column will not be useful for training the model but it might be useful when used in combination with other symptoms."
   ]
  },
  {
   "cell_type": "markdown",
   "id": "fdc506b7",
   "metadata": {},
   "source": [
    "We can use pandas profiling to find out other statistics.\n",
    "We can drop test_date and the Ind column as it won't be playing any role in the data analysis or in training a model."
   ]
  },
  {
   "cell_type": "code",
   "execution_count": 20,
   "id": "a495bf25",
   "metadata": {},
   "outputs": [],
   "source": [
    "df=df.drop(['Ind_ID','Test_date'],axis=1)"
   ]
  },
  {
   "cell_type": "code",
   "execution_count": 21,
   "id": "4aa19679",
   "metadata": {},
   "outputs": [],
   "source": [
    " from ydata_profiling import ProfileReport"
   ]
  },
  {
   "cell_type": "code",
   "execution_count": 22,
   "id": "7b2085bd",
   "metadata": {
    "scrolled": true
   },
   "outputs": [
    {
     "data": {
      "application/vnd.jupyter.widget-view+json": {
       "model_id": "a0483cf925804426ae10a6198010687c",
       "version_major": 2,
       "version_minor": 0
      },
      "text/plain": [
       "Summarize dataset:   0%|          | 0/5 [00:00<?, ?it/s]"
      ]
     },
     "metadata": {},
     "output_type": "display_data"
    },
    {
     "data": {
      "application/vnd.jupyter.widget-view+json": {
       "model_id": "699d02c456b74df5a224d7fc644877db",
       "version_major": 2,
       "version_minor": 0
      },
      "text/plain": [
       "Generate report structure:   0%|          | 0/1 [00:00<?, ?it/s]"
      ]
     },
     "metadata": {},
     "output_type": "display_data"
    },
    {
     "data": {
      "application/vnd.jupyter.widget-view+json": {
       "model_id": "f8a7a2ed32e647b4aa032507a2a7950a",
       "version_major": 2,
       "version_minor": 0
      },
      "text/plain": [
       "Render HTML:   0%|          | 0/1 [00:00<?, ?it/s]"
      ]
     },
     "metadata": {},
     "output_type": "display_data"
    },
    {
     "data": {
      "application/vnd.jupyter.widget-view+json": {
       "model_id": "14115b9308bc4189896c471eaaeb6816",
       "version_major": 2,
       "version_minor": 0
      },
      "text/plain": [
       "Export report to file:   0%|          | 0/1 [00:00<?, ?it/s]"
      ]
     },
     "metadata": {},
     "output_type": "display_data"
    }
   ],
   "source": [
    "prof = ProfileReport(df)\n",
    "prof.to_file(output_file='output_covid_prediction.html')"
   ]
  },
  {
   "cell_type": "markdown",
   "id": "979476d5",
   "metadata": {},
   "source": [
    "We can infer from the output_covid_prediction file that headache and known_contact have high correlation with the output column that is Corona follwed by Sore_throat."
   ]
  },
  {
   "cell_type": "markdown",
   "id": "11bf18cb-e5e2-4a9d-aa7e-cecb237583c0",
   "metadata": {},
   "source": [
    "## Handling for missing values."
   ]
  },
  {
   "cell_type": "code",
   "execution_count": 24,
   "id": "c51b7f47-f7c7-4296-91d6-9dfb5759fcf5",
   "metadata": {},
   "outputs": [
    {
     "data": {
      "text/plain": [
       "Cough_symptoms          0.000000\n",
       "Fever                   0.000000\n",
       "Sore_throat             0.000000\n",
       "Shortness_of_breath     0.000000\n",
       "Headache                0.000000\n",
       "Corona                  0.000000\n",
       "Age_60_above           45.699118\n",
       "Sex                     7.018098\n",
       "Known_contact           0.000000\n",
       "dtype: float64"
      ]
     },
     "execution_count": 24,
     "metadata": {},
     "output_type": "execute_result"
    }
   ],
   "source": [
    "df.isnull().mean()*100"
   ]
  },
  {
   "cell_type": "markdown",
   "id": "2d892fc2-b065-4fdc-8393-0b47696764ce",
   "metadata": {},
   "source": [
    "The Age column has 45% missing values and Sex coloumn has 7% missing values.These two columns needs to be imputed."
   ]
  },
  {
   "cell_type": "markdown",
   "id": "9adf1188-fbb6-4d0d-8c7e-b754893da390",
   "metadata": {},
   "source": [
    "Deleting the records which have null values in Cough_symptoms and Fever."
   ]
  },
  {
   "cell_type": "code",
   "execution_count": 25,
   "id": "3a04625b-b552-45b1-b218-6728cb6a0345",
   "metadata": {},
   "outputs": [
    {
     "name": "stdout",
     "output_type": "stream",
     "text": [
      "0    No\n",
      "Name: Age_60_above, dtype: object\n"
     ]
    },
    {
     "data": {
      "text/plain": [
       "0    female\n",
       "Name: Sex, dtype: object"
      ]
     },
     "execution_count": 25,
     "metadata": {},
     "output_type": "execute_result"
    }
   ],
   "source": [
    "print(df['Age_60_above'].mode())\n",
    "df['Sex'].mode()\n"
   ]
  },
  {
   "cell_type": "markdown",
   "id": "18312efa",
   "metadata": {},
   "source": [
    "We will use label_encoder from scikit to convert all the categorical columns to numerical.\n",
    "The boolean values will be changed to a number.\n",
    "True will have value1,False will have value 0 and the Nan will have value 2."
   ]
  },
  {
   "cell_type": "code",
   "execution_count": 13,
   "id": "44133828",
   "metadata": {},
   "outputs": [],
   "source": [
    "df['Age_60_above'].isnull='Nan'\n",
    "df['Sex'].isnull='Nan'"
   ]
  },
  {
   "cell_type": "code",
   "execution_count": 26,
   "id": "1198d4bb",
   "metadata": {},
   "outputs": [],
   "source": [
    "from sklearn.preprocessing import LabelEncoder"
   ]
  },
  {
   "cell_type": "code",
   "execution_count": 27,
   "id": "7a4f296a",
   "metadata": {},
   "outputs": [],
   "source": [
    "label_encoder=LabelEncoder()"
   ]
  },
  {
   "cell_type": "code",
   "execution_count": 28,
   "id": "ece50cbc",
   "metadata": {},
   "outputs": [],
   "source": [
    "for column in df:\n",
    "    df[column]=label_encoder.fit_transform(df[column])"
   ]
  },
  {
   "cell_type": "code",
   "execution_count": 29,
   "id": "27531267",
   "metadata": {},
   "outputs": [
    {
     "data": {
      "text/html": [
       "<div>\n",
       "<style scoped>\n",
       "    .dataframe tbody tr th:only-of-type {\n",
       "        vertical-align: middle;\n",
       "    }\n",
       "\n",
       "    .dataframe tbody tr th {\n",
       "        vertical-align: top;\n",
       "    }\n",
       "\n",
       "    .dataframe thead th {\n",
       "        text-align: right;\n",
       "    }\n",
       "</style>\n",
       "<table border=\"1\" class=\"dataframe\">\n",
       "  <thead>\n",
       "    <tr style=\"text-align: right;\">\n",
       "      <th></th>\n",
       "      <th>Cough_symptoms</th>\n",
       "      <th>Fever</th>\n",
       "      <th>Sore_throat</th>\n",
       "      <th>Shortness_of_breath</th>\n",
       "      <th>Headache</th>\n",
       "      <th>Corona</th>\n",
       "      <th>Age_60_above</th>\n",
       "      <th>Sex</th>\n",
       "      <th>Known_contact</th>\n",
       "    </tr>\n",
       "  </thead>\n",
       "  <tbody>\n",
       "    <tr>\n",
       "      <th>0</th>\n",
       "      <td>1</td>\n",
       "      <td>0</td>\n",
       "      <td>1</td>\n",
       "      <td>0</td>\n",
       "      <td>0</td>\n",
       "      <td>0</td>\n",
       "      <td>2</td>\n",
       "      <td>2</td>\n",
       "      <td>0</td>\n",
       "    </tr>\n",
       "    <tr>\n",
       "      <th>1</th>\n",
       "      <td>0</td>\n",
       "      <td>1</td>\n",
       "      <td>0</td>\n",
       "      <td>0</td>\n",
       "      <td>0</td>\n",
       "      <td>2</td>\n",
       "      <td>2</td>\n",
       "      <td>2</td>\n",
       "      <td>0</td>\n",
       "    </tr>\n",
       "    <tr>\n",
       "      <th>2</th>\n",
       "      <td>0</td>\n",
       "      <td>1</td>\n",
       "      <td>0</td>\n",
       "      <td>0</td>\n",
       "      <td>0</td>\n",
       "      <td>2</td>\n",
       "      <td>2</td>\n",
       "      <td>2</td>\n",
       "      <td>0</td>\n",
       "    </tr>\n",
       "    <tr>\n",
       "      <th>3</th>\n",
       "      <td>1</td>\n",
       "      <td>0</td>\n",
       "      <td>0</td>\n",
       "      <td>0</td>\n",
       "      <td>0</td>\n",
       "      <td>0</td>\n",
       "      <td>2</td>\n",
       "      <td>2</td>\n",
       "      <td>0</td>\n",
       "    </tr>\n",
       "    <tr>\n",
       "      <th>4</th>\n",
       "      <td>1</td>\n",
       "      <td>0</td>\n",
       "      <td>0</td>\n",
       "      <td>0</td>\n",
       "      <td>0</td>\n",
       "      <td>0</td>\n",
       "      <td>2</td>\n",
       "      <td>2</td>\n",
       "      <td>1</td>\n",
       "    </tr>\n",
       "  </tbody>\n",
       "</table>\n",
       "</div>"
      ],
      "text/plain": [
       "   Cough_symptoms  Fever  Sore_throat  Shortness_of_breath  Headache  Corona  \\\n",
       "0               1      0            1                    0         0       0   \n",
       "1               0      1            0                    0         0       2   \n",
       "2               0      1            0                    0         0       2   \n",
       "3               1      0            0                    0         0       0   \n",
       "4               1      0            0                    0         0       0   \n",
       "\n",
       "   Age_60_above  Sex  Known_contact  \n",
       "0             2    2              0  \n",
       "1             2    2              0  \n",
       "2             2    2              0  \n",
       "3             2    2              0  \n",
       "4             2    2              1  "
      ]
     },
     "execution_count": 29,
     "metadata": {},
     "output_type": "execute_result"
    }
   ],
   "source": [
    "df.head()"
   ]
  },
  {
   "cell_type": "markdown",
   "id": "acb6ebcd-b658-4138-99f7-cfda6ec4c1d0",
   "metadata": {},
   "source": [
    "## Splitting the data into training and the test data using sklearn module train_test_split."
   ]
  },
  {
   "cell_type": "markdown",
   "id": "752ffec4",
   "metadata": {},
   "source": [
    "We use scikit to both impute and to split the data into train and test data."
   ]
  },
  {
   "cell_type": "code",
   "execution_count": 30,
   "id": "7bef9e67-f5d0-4178-bd76-ffd6b63bd746",
   "metadata": {},
   "outputs": [],
   "source": [
    "from sklearn.impute import SimpleImputer\n",
    "from sklearn.model_selection import train_test_split"
   ]
  },
  {
   "cell_type": "code",
   "execution_count": 31,
   "id": "befe61ab-aade-442f-8ea4-db867f1c8258",
   "metadata": {},
   "outputs": [],
   "source": [
    "x_train,x_test,y_train,y_test=train_test_split(df.drop(columns=['Corona']),df['Corona'],test_size=0.2)"
   ]
  },
  {
   "cell_type": "code",
   "execution_count": 32,
   "id": "98f4eea1-397b-4ec1-a261-c93f5cf19fc5",
   "metadata": {},
   "outputs": [
    {
     "data": {
      "text/html": [
       "<div>\n",
       "<style scoped>\n",
       "    .dataframe tbody tr th:only-of-type {\n",
       "        vertical-align: middle;\n",
       "    }\n",
       "\n",
       "    .dataframe tbody tr th {\n",
       "        vertical-align: top;\n",
       "    }\n",
       "\n",
       "    .dataframe thead th {\n",
       "        text-align: right;\n",
       "    }\n",
       "</style>\n",
       "<table border=\"1\" class=\"dataframe\">\n",
       "  <thead>\n",
       "    <tr style=\"text-align: right;\">\n",
       "      <th></th>\n",
       "      <th>Cough_symptoms</th>\n",
       "      <th>Fever</th>\n",
       "      <th>Sore_throat</th>\n",
       "      <th>Shortness_of_breath</th>\n",
       "      <th>Headache</th>\n",
       "      <th>Age_60_above</th>\n",
       "      <th>Sex</th>\n",
       "      <th>Known_contact</th>\n",
       "    </tr>\n",
       "  </thead>\n",
       "  <tbody>\n",
       "    <tr>\n",
       "      <th>273597</th>\n",
       "      <td>0</td>\n",
       "      <td>0</td>\n",
       "      <td>0</td>\n",
       "      <td>0</td>\n",
       "      <td>0</td>\n",
       "      <td>2</td>\n",
       "      <td>1</td>\n",
       "      <td>2</td>\n",
       "    </tr>\n",
       "    <tr>\n",
       "      <th>75786</th>\n",
       "      <td>0</td>\n",
       "      <td>0</td>\n",
       "      <td>0</td>\n",
       "      <td>0</td>\n",
       "      <td>0</td>\n",
       "      <td>0</td>\n",
       "      <td>1</td>\n",
       "      <td>2</td>\n",
       "    </tr>\n",
       "    <tr>\n",
       "      <th>196577</th>\n",
       "      <td>1</td>\n",
       "      <td>1</td>\n",
       "      <td>0</td>\n",
       "      <td>0</td>\n",
       "      <td>0</td>\n",
       "      <td>2</td>\n",
       "      <td>1</td>\n",
       "      <td>0</td>\n",
       "    </tr>\n",
       "    <tr>\n",
       "      <th>263509</th>\n",
       "      <td>0</td>\n",
       "      <td>0</td>\n",
       "      <td>0</td>\n",
       "      <td>0</td>\n",
       "      <td>0</td>\n",
       "      <td>2</td>\n",
       "      <td>0</td>\n",
       "      <td>2</td>\n",
       "    </tr>\n",
       "    <tr>\n",
       "      <th>145501</th>\n",
       "      <td>0</td>\n",
       "      <td>0</td>\n",
       "      <td>0</td>\n",
       "      <td>0</td>\n",
       "      <td>0</td>\n",
       "      <td>1</td>\n",
       "      <td>1</td>\n",
       "      <td>2</td>\n",
       "    </tr>\n",
       "    <tr>\n",
       "      <th>...</th>\n",
       "      <td>...</td>\n",
       "      <td>...</td>\n",
       "      <td>...</td>\n",
       "      <td>...</td>\n",
       "      <td>...</td>\n",
       "      <td>...</td>\n",
       "      <td>...</td>\n",
       "      <td>...</td>\n",
       "    </tr>\n",
       "    <tr>\n",
       "      <th>107342</th>\n",
       "      <td>0</td>\n",
       "      <td>0</td>\n",
       "      <td>0</td>\n",
       "      <td>0</td>\n",
       "      <td>0</td>\n",
       "      <td>1</td>\n",
       "      <td>1</td>\n",
       "      <td>2</td>\n",
       "    </tr>\n",
       "    <tr>\n",
       "      <th>228173</th>\n",
       "      <td>0</td>\n",
       "      <td>0</td>\n",
       "      <td>0</td>\n",
       "      <td>0</td>\n",
       "      <td>0</td>\n",
       "      <td>2</td>\n",
       "      <td>0</td>\n",
       "      <td>2</td>\n",
       "    </tr>\n",
       "    <tr>\n",
       "      <th>54137</th>\n",
       "      <td>0</td>\n",
       "      <td>0</td>\n",
       "      <td>0</td>\n",
       "      <td>0</td>\n",
       "      <td>0</td>\n",
       "      <td>0</td>\n",
       "      <td>0</td>\n",
       "      <td>2</td>\n",
       "    </tr>\n",
       "    <tr>\n",
       "      <th>124264</th>\n",
       "      <td>1</td>\n",
       "      <td>0</td>\n",
       "      <td>0</td>\n",
       "      <td>0</td>\n",
       "      <td>0</td>\n",
       "      <td>1</td>\n",
       "      <td>1</td>\n",
       "      <td>2</td>\n",
       "    </tr>\n",
       "    <tr>\n",
       "      <th>128669</th>\n",
       "      <td>0</td>\n",
       "      <td>0</td>\n",
       "      <td>0</td>\n",
       "      <td>0</td>\n",
       "      <td>0</td>\n",
       "      <td>0</td>\n",
       "      <td>0</td>\n",
       "      <td>0</td>\n",
       "    </tr>\n",
       "  </tbody>\n",
       "</table>\n",
       "<p>222875 rows × 8 columns</p>\n",
       "</div>"
      ],
      "text/plain": [
       "        Cough_symptoms  Fever  Sore_throat  Shortness_of_breath  Headache  \\\n",
       "273597               0      0            0                    0         0   \n",
       "75786                0      0            0                    0         0   \n",
       "196577               1      1            0                    0         0   \n",
       "263509               0      0            0                    0         0   \n",
       "145501               0      0            0                    0         0   \n",
       "...                ...    ...          ...                  ...       ...   \n",
       "107342               0      0            0                    0         0   \n",
       "228173               0      0            0                    0         0   \n",
       "54137                0      0            0                    0         0   \n",
       "124264               1      0            0                    0         0   \n",
       "128669               0      0            0                    0         0   \n",
       "\n",
       "        Age_60_above  Sex  Known_contact  \n",
       "273597             2    1              2  \n",
       "75786              0    1              2  \n",
       "196577             2    1              0  \n",
       "263509             2    0              2  \n",
       "145501             1    1              2  \n",
       "...              ...  ...            ...  \n",
       "107342             1    1              2  \n",
       "228173             2    0              2  \n",
       "54137              0    0              2  \n",
       "124264             1    1              2  \n",
       "128669             0    0              0  \n",
       "\n",
       "[222875 rows x 8 columns]"
      ]
     },
     "execution_count": 32,
     "metadata": {},
     "output_type": "execute_result"
    }
   ],
   "source": [
    "x_train"
   ]
  },
  {
   "cell_type": "code",
   "execution_count": 21,
   "id": "318c98b8-a52d-4749-b0fc-a2f23eb74a9a",
   "metadata": {},
   "outputs": [
    {
     "data": {
      "text/plain": [
       "253157    0\n",
       "189016    0\n",
       "56449     0\n",
       "110835    0\n",
       "100621    0\n",
       "         ..\n",
       "221774    0\n",
       "80148     0\n",
       "5707      0\n",
       "218256    0\n",
       "120674    0\n",
       "Name: Corona, Length: 222875, dtype: int32"
      ]
     },
     "execution_count": 21,
     "metadata": {},
     "output_type": "execute_result"
    }
   ],
   "source": [
    "y_train"
   ]
  },
  {
   "cell_type": "code",
   "execution_count": 33,
   "id": "b997912c-798b-415a-8d6e-660a64467824",
   "metadata": {},
   "outputs": [],
   "source": [
    "imputer=SimpleImputer(strategy='most_frequent')"
   ]
  },
  {
   "cell_type": "code",
   "execution_count": 34,
   "id": "421f330e-ae03-4a4a-aaf6-81fb22b70d66",
   "metadata": {},
   "outputs": [],
   "source": [
    "x_train=imputer.fit_transform(x_train)\n",
    "x_test=imputer.transform(x_test)"
   ]
  },
  {
   "cell_type": "code",
   "execution_count": 35,
   "id": "09ce4d1d-6373-43f3-9d2e-6d867768a390",
   "metadata": {},
   "outputs": [
    {
     "data": {
      "text/plain": [
       "array([[0, 0, 0, ..., 2, 1, 2],\n",
       "       [0, 0, 0, ..., 0, 1, 2],\n",
       "       [1, 1, 0, ..., 2, 1, 0],\n",
       "       ...,\n",
       "       [0, 0, 0, ..., 0, 0, 2],\n",
       "       [1, 0, 0, ..., 1, 1, 2],\n",
       "       [0, 0, 0, ..., 0, 0, 0]], dtype=int64)"
      ]
     },
     "execution_count": 35,
     "metadata": {},
     "output_type": "execute_result"
    }
   ],
   "source": [
    "x_train"
   ]
  },
  {
   "cell_type": "markdown",
   "id": "297d0a84",
   "metadata": {},
   "source": [
    "# Training the model. "
   ]
  },
  {
   "cell_type": "markdown",
   "id": "b42b2c9c",
   "metadata": {},
   "source": [
    "Let us import the necessary training models from scikitlearn.\n",
    "Since its a classification problem we will be using the following algorithms to train the model.\n",
    "logistic regression\n",
    "Decision Tree\n",
    "RandomForest\n",
    "Support Vector "
   ]
  },
  {
   "cell_type": "code",
   "execution_count": 42,
   "id": "68077fd8-0886-4d37-87a6-84f6ac87d925",
   "metadata": {},
   "outputs": [],
   "source": [
    "# Models\n",
    "from sklearn.linear_model import LogisticRegression\n",
    "from sklearn.metrics import precision_score,recall_score, f1_score, accuracy_score\n",
    "from sklearn import tree\n",
    "from sklearn.tree import DecisionTreeClassifier\n",
    "from sklearn.ensemble import RandomForestClassifier\n",
    "from sklearn.neighbors import KNeighborsClassifier"
   ]
  },
  {
   "cell_type": "markdown",
   "id": "4cc4e6b6",
   "metadata": {},
   "source": [
    "# Logistic Regression"
   ]
  },
  {
   "cell_type": "code",
   "execution_count": 37,
   "id": "03d3de74",
   "metadata": {},
   "outputs": [
    {
     "name": "stdout",
     "output_type": "stream",
     "text": [
      "Logistic Regression Accuracy: 0.9432150612896858\n",
      "Logistic Regression Precision: 0.9264731284352398\n"
     ]
    },
    {
     "name": "stderr",
     "output_type": "stream",
     "text": [
      "C:\\Users\\ADMIN\\anaconda3\\Lib\\site-packages\\sklearn\\metrics\\_classification.py:1469: UndefinedMetricWarning: Precision is ill-defined and being set to 0.0 in labels with no predicted samples. Use `zero_division` parameter to control this behavior.\n",
      "  _warn_prf(average, modifier, msg_start, len(result))\n"
     ]
    }
   ],
   "source": [
    "LR=LogisticRegression()\n",
    "LR.fit(x_train,y_train)\n",
    "y_pred=LR.predict(x_test)\n",
    "accuracy = accuracy_score(y_test,y_pred)\n",
    "print('Logistic Regression Accuracy:',accuracy)\n",
    "precision = precision_score(y_test, y_pred, average='weighted')\n",
    "print('Logistic Regression Precision:',precision)"
   ]
  },
  {
   "cell_type": "markdown",
   "id": "5eec846e",
   "metadata": {},
   "source": [
    "# Decision Tree"
   ]
  },
  {
   "cell_type": "code",
   "execution_count": 38,
   "id": "c7ad28db",
   "metadata": {},
   "outputs": [
    {
     "name": "stdout",
     "output_type": "stream",
     "text": [
      " Decision Tree Accuracy: 0.9559396256214218\n",
      " Decision Tree Precision: 0.9399087008182624\n"
     ]
    },
    {
     "name": "stderr",
     "output_type": "stream",
     "text": [
      "C:\\Users\\ADMIN\\anaconda3\\Lib\\site-packages\\sklearn\\metrics\\_classification.py:1469: UndefinedMetricWarning: Precision is ill-defined and being set to 0.0 in labels with no predicted samples. Use `zero_division` parameter to control this behavior.\n",
      "  _warn_prf(average, modifier, msg_start, len(result))\n"
     ]
    }
   ],
   "source": [
    "tree = DecisionTreeClassifier() \n",
    "tree.fit(x_train, y_train) \n",
    "y_pred = tree.predict(x_test) \n",
    "print(\" Decision Tree Accuracy:\", accuracy_score(y_test, \n",
    "                                  y_pred))\n",
    "precision = precision_score(y_test, y_pred, average='weighted')\n",
    "print(' Decision Tree Precision:',precision)"
   ]
  },
  {
   "cell_type": "markdown",
   "id": "10330337",
   "metadata": {},
   "source": [
    "# Random Forest"
   ]
  },
  {
   "cell_type": "code",
   "execution_count": 39,
   "id": "93ce1178",
   "metadata": {},
   "outputs": [
    {
     "name": "stdout",
     "output_type": "stream",
     "text": [
      " Random Forest Accuracy: 0.9559755200201009\n",
      " Random Forest Precision: 0.9399523925290695\n"
     ]
    },
    {
     "name": "stderr",
     "output_type": "stream",
     "text": [
      "C:\\Users\\ADMIN\\anaconda3\\Lib\\site-packages\\sklearn\\metrics\\_classification.py:1469: UndefinedMetricWarning: Precision is ill-defined and being set to 0.0 in labels with no predicted samples. Use `zero_division` parameter to control this behavior.\n",
      "  _warn_prf(average, modifier, msg_start, len(result))\n"
     ]
    }
   ],
   "source": [
    "#Random Forest\n",
    "clf = RandomForestClassifier(n_estimators = 100) \n",
    "clf.fit(x_train, y_train)\n",
    "y_pred = clf.predict(x_test)\n",
    "print(\" Random Forest Accuracy:\", accuracy_score(y_test, \n",
    "                                  y_pred))\n",
    "precision = precision_score(y_test, y_pred, average='weighted')\n",
    "print(' Random Forest Precision:',precision)"
   ]
  },
  {
   "cell_type": "markdown",
   "id": "67691986",
   "metadata": {},
   "source": [
    "# K nearest neighbor"
   ]
  },
  {
   "cell_type": "code",
   "execution_count": 47,
   "id": "0bdbf86e",
   "metadata": {},
   "outputs": [
    {
     "name": "stdout",
     "output_type": "stream",
     "text": [
      "KNN Accuracy: 0.9525834993449273\n",
      "KNN Precision 0.9368873781975272\n"
     ]
    },
    {
     "name": "stderr",
     "output_type": "stream",
     "text": [
      "C:\\Users\\ADMIN\\anaconda3\\Lib\\site-packages\\sklearn\\metrics\\_classification.py:1469: UndefinedMetricWarning: Precision is ill-defined and being set to 0.0 in labels with no predicted samples. Use `zero_division` parameter to control this behavior.\n",
      "  _warn_prf(average, modifier, msg_start, len(result))\n"
     ]
    }
   ],
   "source": [
    "k_n = KNeighborsClassifier()\n",
    "k_n.fit(x_train,y_train)\n",
    "y_pred=k_n.predict(x_test)\n",
    "print(\"KNN Accuracy:\", accuracy_score(y_test, \n",
    "                                  y_pred))\n",
    "print('KNN Precision',precision_score(y_test,y_pred,average='weighted'))\n"
   ]
  },
  {
   "cell_type": "markdown",
   "id": "ddb64faf",
   "metadata": {},
   "source": [
    "We can conclude that Decision tree or Random Forest has a better accuracy and precision as compared to others."
   ]
  },
  {
   "cell_type": "code",
   "execution_count": null,
   "id": "ff0ec973",
   "metadata": {},
   "outputs": [],
   "source": []
  }
 ],
 "metadata": {
  "kernelspec": {
   "display_name": "Python 3 (ipykernel)",
   "language": "python",
   "name": "python3"
  },
  "language_info": {
   "codemirror_mode": {
    "name": "ipython",
    "version": 3
   },
   "file_extension": ".py",
   "mimetype": "text/x-python",
   "name": "python",
   "nbconvert_exporter": "python",
   "pygments_lexer": "ipython3",
   "version": "3.11.5"
  }
 },
 "nbformat": 4,
 "nbformat_minor": 5
}
